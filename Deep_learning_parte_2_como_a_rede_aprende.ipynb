{
  "nbformat": 4,
  "nbformat_minor": 0,
  "metadata": {
    "colab": {
      "name": "Deep learning parte 2: como a rede aprende.ipynb",
      "provenance": [],
      "collapsed_sections": [],
      "authorship_tag": "ABX9TyPR0G7QlLPGp+Xie21ht3nd",
      "include_colab_link": true
    },
    "kernelspec": {
      "name": "python3",
      "display_name": "Python 3"
    }
  },
  "cells": [
    {
      "cell_type": "markdown",
      "metadata": {
        "id": "view-in-github",
        "colab_type": "text"
      },
      "source": [
        "<a href=\"https://colab.research.google.com/github/otavioaugusto1/deep-learning/blob/main/Deep_learning_parte_2_como_a_rede_aprende.ipynb\" target=\"_parent\"><img src=\"https://colab.research.google.com/assets/colab-badge.svg\" alt=\"Open In Colab\"/></a>"
      ]
    },
    {
      "cell_type": "markdown",
      "metadata": {
        "id": "lI91Kt4rNsii"
      },
      "source": [
        "## Das camadas flatten, ReLU e softmax, o processo chamado das passagens é propagação ou Fowardpropagation.\n",
        "## Assim também como a volta ocorre da softmax, ReLU até a flatten, onde é chamada de retropropagação ou backpropagation"
      ]
    },
    {
      "cell_type": "markdown",
      "metadata": {
        "id": "eiGEuPjFSube"
      },
      "source": [
        "Imports"
      ]
    },
    {
      "cell_type": "code",
      "metadata": {
        "id": "Mt9AmSDIN6Zk"
      },
      "source": [
        "\n",
        "import tensorflow\n",
        "from tensorflow import keras\n",
        "import matplotlib.pyplot as plt\n",
        "import numpy as np\n",
        "from tensorflow.keras.models import load_model"
      ],
      "execution_count": 1,
      "outputs": []
    },
    {
      "cell_type": "markdown",
      "metadata": {
        "id": "4UVZxlZ4S3bf"
      },
      "source": [
        "Carregando o dataset"
      ]
    },
    {
      "cell_type": "code",
      "metadata": {
        "id": "yAsBztLdSz2o",
        "outputId": "bfe695e0-9a34-4cdc-c6da-95fe1a5c9175",
        "colab": {
          "base_uri": "https://localhost:8080/"
        }
      },
      "source": [
        "dataset = keras.datasets.fashion_mnist\n",
        "((imagens_treino, identificacoes_treino), (imagens_teste, identificacoes_teste)) = dataset.load_data()"
      ],
      "execution_count": 2,
      "outputs": [
        {
          "output_type": "stream",
          "text": [
            "Downloading data from https://storage.googleapis.com/tensorflow/tf-keras-datasets/train-labels-idx1-ubyte.gz\n",
            "32768/29515 [=================================] - 0s 0us/step\n",
            "Downloading data from https://storage.googleapis.com/tensorflow/tf-keras-datasets/train-images-idx3-ubyte.gz\n",
            "26427392/26421880 [==============================] - 0s 0us/step\n",
            "Downloading data from https://storage.googleapis.com/tensorflow/tf-keras-datasets/t10k-labels-idx1-ubyte.gz\n",
            "8192/5148 [===============================================] - 0s 0us/step\n",
            "Downloading data from https://storage.googleapis.com/tensorflow/tf-keras-datasets/t10k-images-idx3-ubyte.gz\n",
            "4423680/4422102 [==============================] - 0s 0us/step\n"
          ],
          "name": "stdout"
        }
      ]
    },
    {
      "cell_type": "markdown",
      "metadata": {
        "id": "RPySO8rzS_No"
      },
      "source": [
        "Exploração dos dados"
      ]
    },
    {
      "cell_type": "code",
      "metadata": {
        "id": "KNlZLNhnS9UI",
        "outputId": "a67de895-45c9-4661-9526-08a5638c7360",
        "colab": {
          "base_uri": "https://localhost:8080/"
        }
      },
      "source": [
        "len(imagens_treino)\n",
        "imagens_treino.shape\n",
        "imagens_teste.shape\n",
        "len(identificacoes_teste)\n",
        "identificacoes_treino.min()\n",
        "identificacoes_treino.max()"
      ],
      "execution_count": 3,
      "outputs": [
        {
          "output_type": "execute_result",
          "data": {
            "text/plain": [
              "9"
            ]
          },
          "metadata": {
            "tags": []
          },
          "execution_count": 3
        }
      ]
    },
    {
      "cell_type": "markdown",
      "metadata": {
        "id": "jVVKuAGHTGGA"
      },
      "source": [
        "Exibição dos dados"
      ]
    },
    {
      "cell_type": "code",
      "metadata": {
        "id": "SU8xHW14TD19",
        "outputId": "ee3c5f78-83f4-45b9-a6ac-c1409d9f6760",
        "colab": {
          "base_uri": "https://localhost:8080/",
          "height": 282
        }
      },
      "source": [
        "total_de_classificacoes = 10\n",
        "nomes_de_classificacoes = ['Camiseta', 'Calça', 'Pullover', \n",
        "                           'Vestido', 'Casaco', 'Sandália', 'Camisa',\n",
        "                           'Tênis', 'Bolsa', 'Bota']\n",
        "\n",
        "plt.imshow(imagens_treino[0])\n",
        "plt.colorbar()\n"
      ],
      "execution_count": 4,
      "outputs": [
        {
          "output_type": "execute_result",
          "data": {
            "text/plain": [
              "<matplotlib.colorbar.Colorbar at 0x7fbf9c32ec18>"
            ]
          },
          "metadata": {
            "tags": []
          },
          "execution_count": 4
        },
        {
          "output_type": "display_data",
          "data": {
            "image/png": "[encoded data removed]",
            "text/plain": [
              "<Figure size 432x288 with 2 Axes>"
            ]
          },
          "metadata": {
            "tags": [],
            "needs_background": "light"
          }
        }
      ]
    },
    {
      "cell_type": "markdown",
      "metadata": {
        "id": "KLZBXCtcTN8E"
      },
      "source": [
        "Normalizando as imagens"
      ]
    },
    {
      "cell_type": "code",
      "metadata": {
        "id": "2Md0YZp6TLdY"
      },
      "source": [
        "imagens_treino = imagens_treino/float(255)\n"
      ],
      "execution_count": 5,
      "outputs": []
    },
    {
      "cell_type": "markdown",
      "metadata": {
        "id": "4K748hH2TVcJ"
      },
      "source": [
        "Criando, compilando, treinando e normalizando o modelo"
      ]
    },
    {
      "cell_type": "code",
      "metadata": {
        "id": "_TI1Hc_oTRMj",
        "outputId": "c973f1c1-4503-47f3-a716-693bf584cb6c",
        "colab": {
          "base_uri": "https://localhost:8080/"
        }
      },
      "source": [
        "modelo = keras.Sequential([ \n",
        "    keras.layers.Flatten(input_shape=(28, 28)),\n",
        "    keras.layers.Dense(256, activation=tensorflow.nn.relu),\n",
        "    keras.layers.Dropout(0.2),\n",
        "    keras.layers.Dense(10, activation=tensorflow.nn.softmax)\n",
        "])\n",
        "\n",
        "adam = keras.optimizers.Adam(lr=0.002)\n",
        "\n",
        "'''lr\n",
        "learning rate\n",
        "taxa de aprendizado'''\n",
        "\n",
        "parando_cedo = [keras.callbacks.EarlyStopping(monitor='val_loss'),\n",
        "                keras.callbacks.ModelCheckpoint(filepath='melhor_modelo.hdf5',\n",
        "                                               monitor='val_loss', save_best_only=True)]\n",
        "\n",
        "modelo.compile(optimizer=adam, \n",
        "               loss='sparse_categorical_crossentropy',\n",
        "               metrics=['accuracy'])\n",
        "\n",
        "historico = modelo.fit(imagens_treino, identificacoes_treino, \n",
        "                       batch_size = 480,\n",
        "                       epochs=5, validation_split=0.2,\n",
        "                       callbacks=parando_cedo)"
      ],
      "execution_count": 6,
      "outputs": [
        {
          "output_type": "stream",
          "text": [
            "Epoch 1/5\n",
            "100/100 [==============================] - 1s 14ms/step - loss: 0.6454 - accuracy: 0.7729 - val_loss: 0.4823 - val_accuracy: 0.8234\n",
            "Epoch 2/5\n",
            "100/100 [==============================] - 1s 11ms/step - loss: 0.4374 - accuracy: 0.8468 - val_loss: 0.4012 - val_accuracy: 0.8567\n",
            "Epoch 3/5\n",
            "100/100 [==============================] - 1s 11ms/step - loss: 0.3899 - accuracy: 0.8589 - val_loss: 0.3781 - val_accuracy: 0.8641\n",
            "Epoch 4/5\n",
            "100/100 [==============================] - 1s 11ms/step - loss: 0.3614 - accuracy: 0.8686 - val_loss: 0.3508 - val_accuracy: 0.8745\n",
            "Epoch 5/5\n",
            "100/100 [==============================] - 1s 11ms/step - loss: 0.3408 - accuracy: 0.8764 - val_loss: 0.3583 - val_accuracy: 0.8727\n"
          ],
          "name": "stdout"
        }
      ]
    },
    {
      "cell_type": "markdown",
      "metadata": {
        "id": "tmU8qt_9Tctz"
      },
      "source": [
        "Sumário do modelo"
      ]
    },
    {
      "cell_type": "code",
      "metadata": {
        "id": "gL3Am44BTZdt",
        "outputId": "43d2c4a7-1d67-473b-8fbd-de1032b1d39c",
        "colab": {
          "base_uri": "https://localhost:8080/"
        }
      },
      "source": [
        "sumario_do_modelo = modelo.summary()\n"
      ],
      "execution_count": 7,
      "outputs": [
        {
          "output_type": "stream",
          "text": [
            "Model: \"sequential\"\n",
            "_________________________________________________________________\n",
            "Layer (type)                 Output Shape              Param #   \n",
            "=================================================================\n",
            "flatten (Flatten)            (None, 784)               0         \n",
            "_________________________________________________________________\n",
            "dense (Dense)                (None, 256)               200960    \n",
            "_________________________________________________________________\n",
            "dropout (Dropout)            (None, 256)               0         \n",
            "_________________________________________________________________\n",
            "dense_1 (Dense)              (None, 10)                2570      \n",
            "=================================================================\n",
            "Total params: 203,530\n",
            "Trainable params: 203,530\n",
            "Non-trainable params: 0\n",
            "_________________________________________________________________\n"
          ],
          "name": "stdout"
        }
      ]
    },
    {
      "cell_type": "markdown",
      "metadata": {
        "id": "n5ziGKqgTiwn"
      },
      "source": [
        "Pesos da primeira camada dense"
      ]
    },
    {
      "cell_type": "code",
      "metadata": {
        "id": "ytB5ngdwTgBq",
        "outputId": "c25febf5-0de4-4ae5-8463-f0e4b34a79a8",
        "colab": {
          "base_uri": "https://localhost:8080/"
        }
      },
      "source": [
        "\n",
        "pesos_camada_dense = modelo.layers[1].get_weights()\n",
        "pesos_camada_dense"
      ],
      "execution_count": 8,
      "outputs": [
        {
          "output_type": "execute_result",
          "data": {
            "text/plain": [
              "[array([[-0.06540802,  0.02820186,  0.06752578, ...,  0.03949304,\n",
              "          0.04094477, -0.06948071],\n",
              "        [-0.12128939, -0.1659258 ,  0.1004952 , ..., -0.02424145,\n",
              "          0.02764067, -0.05981024],\n",
              "        [ 0.00468876, -0.17048301,  0.08217442, ..., -0.13230337,\n",
              "          0.01840641, -0.06761923],\n",
              "        ...,\n",
              "        [ 0.09370139, -0.01429746,  0.14538953, ..., -0.03544284,\n",
              "          0.00056226, -0.06248035],\n",
              "        [-0.00723399,  0.05871154, -0.02093   , ...,  0.07933903,\n",
              "          0.07679198, -0.0541622 ],\n",
              "        [ 0.05592218,  0.03583457,  0.08552987, ...,  0.04173964,\n",
              "         -0.03515823, -0.05441745]], dtype=float32),\n",
              " array([ 1.40547365e-01, -4.56190370e-02,  1.99642748e-01,  1.63498983e-01,\n",
              "        -1.83797404e-02,  1.10563211e-01, -4.74804342e-02, -8.56537558e-03,\n",
              "         1.13796312e-02, -4.94175628e-02,  1.10823549e-01, -1.97027344e-02,\n",
              "        -1.46604162e-02, -1.46715594e-02,  1.20931476e-01,  1.13059804e-01,\n",
              "         1.44042403e-01,  1.77375913e-01, -7.32814297e-02,  6.37310324e-03,\n",
              "         1.42059192e-01, -1.70646198e-02, -5.07486239e-03,  7.18808454e-03,\n",
              "         1.56170100e-01, -1.89191122e-02,  1.98975086e-01,  9.50749740e-02,\n",
              "         2.51708746e-01,  3.38707939e-02,  1.05385400e-01, -6.38874248e-02,\n",
              "        -1.54927196e-02,  1.35605261e-01, -9.52600539e-02, -1.26653006e-02,\n",
              "         1.36470288e-01, -5.44868186e-02, -2.17151511e-02,  4.60187308e-02,\n",
              "         1.16291024e-01,  1.47082642e-01,  1.69683143e-01,  1.37581572e-01,\n",
              "         6.68597445e-02, -1.61749832e-02,  1.73023030e-01, -1.19867735e-02,\n",
              "        -1.65751576e-02,  2.74477247e-02, -4.57695909e-02,  7.89818391e-02,\n",
              "        -1.40327036e-01,  1.90569922e-01, -1.78474281e-02,  1.35123402e-01,\n",
              "         2.04073563e-01,  1.30408444e-06,  1.22567251e-01, -1.28921336e-02,\n",
              "         5.13067693e-02,  4.27548029e-03, -1.10102072e-02,  4.04532179e-02,\n",
              "         6.38917685e-02,  2.50832230e-01,  7.72472098e-02, -1.05591975e-01,\n",
              "        -3.23599391e-02, -7.87328333e-02, -2.53841411e-02,  4.22492474e-02,\n",
              "         7.44307935e-02, -1.44275296e-02, -3.20481472e-02,  2.59914882e-02,\n",
              "         3.04925554e-02, -5.80761069e-03,  1.17218524e-01,  1.89636707e-01,\n",
              "        -7.95371085e-02,  7.29588568e-02, -1.48456320e-01, -1.32478429e-02,\n",
              "         9.09713656e-02, -1.58256777e-02, -1.27783604e-02, -1.49194514e-02,\n",
              "         5.91727160e-02,  2.05284748e-02, -2.99396534e-02,  1.13906406e-01,\n",
              "         5.10352515e-02,  1.62220567e-01,  4.00345773e-02,  1.33144826e-01,\n",
              "         1.09466784e-01, -1.28690660e-01, -9.77969076e-03,  6.66090697e-02,\n",
              "        -1.27321810e-01, -4.77765352e-02,  2.74778157e-01, -7.18444586e-02,\n",
              "         4.19016667e-02, -1.53886983e-02,  1.38725489e-01, -2.32696980e-02,\n",
              "         2.44524494e-01, -2.83930413e-02, -8.70096590e-03, -6.29650876e-02,\n",
              "         1.24118678e-01,  1.70408562e-01, -1.65589098e-02, -1.93038844e-02,\n",
              "        -8.96075964e-02, -1.60368964e-01,  9.15589184e-02, -2.96184830e-02,\n",
              "         5.31499498e-02,  1.22669883e-01, -1.73099414e-02,  1.04384676e-01,\n",
              "        -1.87300712e-01,  8.34457055e-02, -8.76892954e-02,  3.71840149e-02,\n",
              "        -2.08840761e-02,  1.00482166e-01,  1.05398752e-01,  1.28054276e-01,\n",
              "        -1.71186682e-02,  2.60040835e-02,  2.25457951e-01,  1.51878789e-01,\n",
              "         1.66087687e-01,  3.92780080e-02, -8.66000950e-02, -1.27654448e-01,\n",
              "         1.14670461e-02, -1.10100523e-01,  1.86843574e-01,  3.45516317e-02,\n",
              "        -4.76838313e-02, -3.53776440e-02,  8.29103217e-02, -7.55577460e-02,\n",
              "        -1.88566763e-02,  1.22681782e-01,  1.91350561e-02,  2.02068090e-01,\n",
              "        -8.75045210e-02,  2.09136978e-01,  1.10184804e-01,  6.49326965e-02,\n",
              "         7.25428239e-02, -8.37642998e-02, -2.11568680e-02, -1.56850144e-02,\n",
              "         1.37707472e-01,  2.47647166e-01,  6.07756414e-02,  1.18865864e-03,\n",
              "         5.85011728e-02,  1.30902529e-02,  1.82099223e-01,  8.08367133e-02,\n",
              "        -1.44485859e-02,  2.65363932e-01,  1.80237606e-01,  3.23452055e-02,\n",
              "        -1.58354919e-02,  7.55083654e-03,  1.98990420e-01,  1.16418354e-01,\n",
              "        -5.03800139e-02, -2.04232391e-02, -2.59480556e-03, -1.49099436e-02,\n",
              "        -1.16546981e-01,  4.49705683e-02,  1.56258583e-01,  1.94124579e-01,\n",
              "         1.39652133e-01,  1.52039260e-01, -1.30058425e-02, -1.69128533e-02,\n",
              "        -8.82603154e-02,  9.23134685e-02,  6.95244670e-02, -2.43129730e-02,\n",
              "        -1.32897533e-02,  8.33592713e-02,  3.88761493e-03,  4.83447090e-02,\n",
              "        -3.11441906e-02, -3.73808667e-02, -7.28531331e-02, -1.47762656e-01,\n",
              "         1.30191475e-01,  3.27216126e-02,  6.88439831e-02,  3.22525464e-02,\n",
              "        -1.45291146e-02,  2.35568181e-01, -6.43520616e-03,  7.97201768e-02,\n",
              "         5.48999570e-02,  2.90443171e-02,  8.87143239e-02,  3.14157130e-03,\n",
              "         2.55823806e-02, -5.40781282e-02,  6.39004931e-02,  8.28617886e-02,\n",
              "         9.23836529e-02, -2.86053657e-03,  4.32587788e-03,  1.29910395e-01,\n",
              "         1.03465043e-01, -1.91573706e-02,  1.65544018e-01,  1.55395001e-01,\n",
              "         7.65125453e-02,  1.06836833e-01,  2.48373002e-01,  2.00504467e-01,\n",
              "        -1.27467662e-02, -9.85670462e-02,  1.74571663e-01,  1.04398325e-01,\n",
              "        -1.81749631e-02, -1.37074627e-02, -2.07729489e-02,  1.13571778e-01,\n",
              "         9.76271257e-02,  1.43277764e-01,  1.58285156e-01,  5.68637177e-02,\n",
              "         1.96680933e-01,  5.47123794e-03,  2.03649476e-01,  8.91944468e-02,\n",
              "         5.59066683e-02,  3.93411368e-02,  2.62491424e-02,  2.53757954e-01,\n",
              "         1.11955568e-01,  2.03148294e-02,  2.11155593e-01,  1.66903526e-01,\n",
              "        -1.23289116e-02, -1.63822681e-01,  2.67477185e-01, -1.22604268e-02],\n",
              "       dtype=float32)]"
            ]
          },
          "metadata": {
            "tags": []
          },
          "execution_count": 8
        }
      ]
    },
    {
      "cell_type": "code",
      "metadata": {
        "id": "qCm-JwE091Kr",
        "outputId": "9e342b48-9764-4df6-b716-01268b741f14",
        "colab": {
          "base_uri": "https://localhost:8080/"
        }
      },
      "source": [
        "modelo.compile(optimizer='adam', \n",
        "               loss='sparse_categorical_crossentropy',\n",
        "               metrics=['accuracy'])\n",
        "\n",
        "historico = modelo.fit(imagens_treino, identificacoes_treino, epochs=5, validation_split=0.2)"
      ],
      "execution_count": 9,
      "outputs": [
        {
          "output_type": "stream",
          "text": [
            "Epoch 1/5\n",
            "1500/1500 [==============================] - 4s 3ms/step - loss: 0.3683 - accuracy: 0.8655 - val_loss: 0.3419 - val_accuracy: 0.8778\n",
            "Epoch 2/5\n",
            "1500/1500 [==============================] - 4s 2ms/step - loss: 0.3416 - accuracy: 0.8746 - val_loss: 0.3401 - val_accuracy: 0.8751\n",
            "Epoch 3/5\n",
            "1500/1500 [==============================] - 4s 3ms/step - loss: 0.3258 - accuracy: 0.8785 - val_loss: 0.3342 - val_accuracy: 0.8787\n",
            "Epoch 4/5\n",
            "1500/1500 [==============================] - 4s 2ms/step - loss: 0.3107 - accuracy: 0.8857 - val_loss: 0.3352 - val_accuracy: 0.8809\n",
            "Epoch 5/5\n",
            "1500/1500 [==============================] - 4s 3ms/step - loss: 0.3013 - accuracy: 0.8873 - val_loss: 0.3322 - val_accuracy: 0.8818\n"
          ],
          "name": "stdout"
        }
      ]
    },
    {
      "cell_type": "code",
      "metadata": {
        "id": "aFzDZB6J-Khh",
        "outputId": "db4e325d-8692-442b-dc82-d43be53d3971",
        "colab": {
          "base_uri": "https://localhost:8080/"
        }
      },
      "source": [
        "modelo.get_config()\n"
      ],
      "execution_count": 10,
      "outputs": [
        {
          "output_type": "execute_result",
          "data": {
            "text/plain": [
              "{'layers': [{'class_name': 'InputLayer',\n",
              "   'config': {'batch_input_shape': (None, 28, 28),\n",
              "    'dtype': 'float32',\n",
              "    'name': 'flatten_input',\n",
              "    'ragged': False,\n",
              "    'sparse': False}},\n",
              "  {'class_name': 'Flatten',\n",
              "   'config': {'batch_input_shape': (None, 28, 28),\n",
              "    'data_format': 'channels_last',\n",
              "    'dtype': 'float32',\n",
              "    'name': 'flatten',\n",
              "    'trainable': True}},\n",
              "  {'class_name': 'Dense',\n",
              "   'config': {'activation': 'relu',\n",
              "    'activity_regularizer': None,\n",
              "    'bias_constraint': None,\n",
              "    'bias_initializer': {'class_name': 'Zeros', 'config': {}},\n",
              "    'bias_regularizer': None,\n",
              "    'dtype': 'float32',\n",
              "    'kernel_constraint': None,\n",
              "    'kernel_initializer': {'class_name': 'GlorotUniform',\n",
              "     'config': {'seed': None}},\n",
              "    'kernel_regularizer': None,\n",
              "    'name': 'dense',\n",
              "    'trainable': True,\n",
              "    'units': 256,\n",
              "    'use_bias': True}},\n",
              "  {'class_name': 'Dropout',\n",
              "   'config': {'dtype': 'float32',\n",
              "    'name': 'dropout',\n",
              "    'noise_shape': None,\n",
              "    'rate': 0.2,\n",
              "    'seed': None,\n",
              "    'trainable': True}},\n",
              "  {'class_name': 'Dense',\n",
              "   'config': {'activation': 'softmax',\n",
              "    'activity_regularizer': None,\n",
              "    'bias_constraint': None,\n",
              "    'bias_initializer': {'class_name': 'Zeros', 'config': {}},\n",
              "    'bias_regularizer': None,\n",
              "    'dtype': 'float32',\n",
              "    'kernel_constraint': None,\n",
              "    'kernel_initializer': {'class_name': 'GlorotUniform',\n",
              "     'config': {'seed': None}},\n",
              "    'kernel_regularizer': None,\n",
              "    'name': 'dense_1',\n",
              "    'trainable': True,\n",
              "    'units': 10,\n",
              "    'use_bias': True}}],\n",
              " 'name': 'sequential'}"
            ]
          },
          "metadata": {
            "tags": []
          },
          "execution_count": 10
        }
      ]
    },
    {
      "cell_type": "markdown",
      "metadata": {
        "id": "ffnDkq3eTotD"
      },
      "source": [
        "Salvando o carregando o modelo treinado"
      ]
    },
    {
      "cell_type": "code",
      "metadata": {
        "id": "eSpAY9_aTmV-"
      },
      "source": [
        "modelo.save('modelo.h5')\n",
        "modelo_salvo = load_model('modelo.h5')"
      ],
      "execution_count": 11,
      "outputs": []
    },
    {
      "cell_type": "markdown",
      "metadata": {
        "id": "lVXCvtxETwQl"
      },
      "source": [
        "Visualizando as acurácias de treino e validação por épocas "
      ]
    },
    {
      "cell_type": "code",
      "metadata": {
        "id": "Rd0VLuWmTs9T",
        "outputId": "aa1aaad0-bf2c-4ad3-c0d6-5ff36722e6e6",
        "colab": {
          "base_uri": "https://localhost:8080/",
          "height": 313
        }
      },
      "source": [
        "plt.plot(historico.history['accuracy'])\n",
        "plt.plot(historico.history['val_accuracy'])\n",
        "plt.title('Acurácia por épocas')\n",
        "plt.xlabel('épocas')\n",
        "plt.ylabel('acurácia')\n",
        "plt.legend(['treino', 'validação'])"
      ],
      "execution_count": 12,
      "outputs": [
        {
          "output_type": "execute_result",
          "data": {
            "text/plain": [
              "<matplotlib.legend.Legend at 0x7fbf91e332b0>"
            ]
          },
          "metadata": {
            "tags": []
          },
          "execution_count": 12
        },
        {
          "output_type": "display_data",
          "data": {
            "image/png": "[encoded data removed]",
            "text/plain": [
              "<Figure size 432x288 with 1 Axes>"
            ]
          },
          "metadata": {
            "tags": [],
            "needs_background": "light"
          }
        }
      ]
    },
    {
      "cell_type": "markdown",
      "metadata": {
        "id": "5hnlqhRgULa3"
      },
      "source": [
        "\n",
        "Visualizando as perdas de treino e validação por época"
      ]
    },
    {
      "cell_type": "code",
      "metadata": {
        "id": "o7vLZe5YT7c3",
        "outputId": "07134203-bda1-4472-b2e0-7f6659c74b82",
        "colab": {
          "base_uri": "https://localhost:8080/",
          "height": 313
        }
      },
      "source": [
        "plt.plot(historico.history['loss'])\n",
        "plt.plot(historico.history['val_loss'])\n",
        "plt.title('Perda por épocas')\n",
        "plt.xlabel('épocas')\n",
        "plt.ylabel('perda')\n",
        "plt.legend(['treino', 'validação'])"
      ],
      "execution_count": 13,
      "outputs": [
        {
          "output_type": "execute_result",
          "data": {
            "text/plain": [
              "<matplotlib.legend.Legend at 0x7fbf91e28eb8>"
            ]
          },
          "metadata": {
            "tags": []
          },
          "execution_count": 13
        },
        {
          "output_type": "display_data",
          "data": {
            "image/png": "[encoded data removed]",
            "text/plain": [
              "<Figure size 432x288 with 1 Axes>"
            ]
          },
          "metadata": {
            "tags": [],
            "needs_background": "light"
          }
        }
      ]
    },
    {
      "cell_type": "markdown",
      "metadata": {
        "id": "no9q8f4KURnG"
      },
      "source": [
        "Testando o modelo e o modelo salvo"
      ]
    },
    {
      "cell_type": "code",
      "metadata": {
        "id": "KEchHYe9UOBK",
        "outputId": "1cd71736-76cd-4e5b-a068-f55c5246b3c9",
        "colab": {
          "base_uri": "https://localhost:8080/"
        }
      },
      "source": [
        "testes = modelo.predict(imagens_teste)\n",
        "print('resultado teste:', np.argmax(testes[1]))\n",
        "print('número da imagem de teste:', identificacoes_teste[1])\n",
        "\n",
        "testes_modelo_salvo = modelo_salvo.predict(imagens_teste)\n",
        "print('resultado teste modelo salvo:', np.argmax(testes_modelo_salvo[1]))\n",
        "print('número da imagem de teste:', identificacoes_teste[1])"
      ],
      "execution_count": 14,
      "outputs": [
        {
          "output_type": "stream",
          "text": [
            "resultado teste: 2\n",
            "número da imagem de teste: 2\n",
            "resultado teste modelo salvo: 2\n",
            "número da imagem de teste: 2\n"
          ],
          "name": "stdout"
        }
      ]
    },
    {
      "cell_type": "markdown",
      "metadata": {
        "id": "WbRgU02oUXZN"
      },
      "source": [
        "\n",
        "Avaliando o modelo"
      ]
    },
    {
      "cell_type": "code",
      "metadata": {
        "id": "3vnin97JUUSY",
        "outputId": "67a66e74-3a2a-4962-940a-c34cfeedd0d5",
        "colab": {
          "base_uri": "https://localhost:8080/"
        }
      },
      "source": [
        "perda_teste, acuracia_teste = modelo.evaluate(imagens_teste, identificacoes_teste)\n",
        "print('Perda do teste:', perda_teste)\n",
        "print('Acurácia do teste:', acuracia_teste)"
      ],
      "execution_count": 15,
      "outputs": [
        {
          "output_type": "stream",
          "text": [
            "313/313 [==============================] - 1s 2ms/step - loss: 62.8175 - accuracy: 0.8568\n",
            "Perda do teste: 62.81751251220703\n",
            "Acurácia do teste: 0.8568000197410583\n"
          ],
          "name": "stdout"
        }
      ]
    },
    {
      "cell_type": "code",
      "metadata": {
        "id": "4XygSH8eUZqI"
      },
      "source": [
        ""
      ],
      "execution_count": 15,
      "outputs": []
    }
  ]
}